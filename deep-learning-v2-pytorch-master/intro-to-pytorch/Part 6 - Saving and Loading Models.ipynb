{
 "cells": [
  {
   "cell_type": "markdown",
   "metadata": {},
   "source": [
    "# Saving and Loading Models\n",
    "\n",
    "In this notebook, I'll show you how to save and load models with PyTorch. This is important because you'll often want to load previously trained models to use in making predictions or to continue training on new data."
   ]
  },
  {
   "cell_type": "code",
   "execution_count": 3,
   "metadata": {},
   "outputs": [],
   "source": [
    "%matplotlib inline\n",
    "%config InlineBackend.figure_format = 'retina'\n",
    "\n",
    "import matplotlib.pyplot as plt\n",
    "\n",
    "import torch\n",
    "from torch import nn\n",
    "from torch import optim\n",
    "import torch.nn.functional as F\n",
    "from torchvision import datasets, transforms\n",
    "\n",
    "import helper\n",
    "import fc_model"
   ]
  },
  {
   "cell_type": "code",
   "execution_count": 8,
   "metadata": {},
   "outputs": [],
   "source": [
    "# Define a transform to normalize the data\n",
    "transform = transforms.Compose([transforms.ToTensor(),\n",
    "                                transforms.Normalize((0.5,), (0.5,))])\n",
    "# Download and load the training data\n",
    "trainset = datasets.FashionMNIST('~/.pytorch/F_MNIST_data/', download=True, train=True, transform=transform)\n",
    "trainloader = torch.utils.data.DataLoader(trainset, batch_size=64, shuffle=True)\n",
    "\n",
    "# Download and load the test data\n",
    "testset = datasets.FashionMNIST('~/.pytorch/F_MNIST_data/', download=True, train=False, transform=transform)\n",
    "testloader = torch.utils.data.DataLoader(testset, batch_size=64, shuffle=True)"
   ]
  },
  {
   "cell_type": "markdown",
   "metadata": {},
   "source": [
    "Here we can see one of the images."
   ]
  },
  {
   "cell_type": "code",
   "execution_count": 10,
   "metadata": {},
   "outputs": [
    {
     "data": {
      "image/png": "[encoded data removed]",
      "text/plain": [
       "<Figure size 432x288 with 1 Axes>"
      ]
     },
     "metadata": {
      "image/png": {
       "height": 231,
       "width": 231
      },
      "needs_background": "light"
     },
     "output_type": "display_data"
    }
   ],
   "source": [
    "image, label = next(iter(trainloader))\n",
    "helper.imshow(image[0,:]);"
   ]
  },
  {
   "cell_type": "markdown",
   "metadata": {},
   "source": [
    "# Train a network\n",
    "\n",
    "To make things more concise here, I moved the model architecture and training code from the last part to a file called `fc_model`. Importing this, we can easily create a fully-connected network with `fc_model.Network`, and train the network using `fc_model.train`. I'll use this model (once it's trained) to demonstrate how we can save and load models."
   ]
  },
  {
   "cell_type": "code",
   "execution_count": 11,
   "metadata": {},
   "outputs": [],
   "source": [
    "# Create the network, define the criterion and optimizer\n",
    "\n",
    "model = fc_model.Network(784, 10, [512, 256, 128])\n",
    "criterion = nn.NLLLoss()\n",
    "optimizer = optim.Adam(model.parameters(), lr=0.001)"
   ]
  },
  {
   "cell_type": "code",
   "execution_count": 12,
   "metadata": {},
   "outputs": [
    {
     "name": "stdout",
     "output_type": "stream",
     "text": [
      "Epoch: 1/2..  Training Loss: 1.671..  Test Loss: 0.939..  Test Accuracy: 0.692\n",
      "Epoch: 1/2..  Training Loss: 1.021..  Test Loss: 0.755..  Test Accuracy: 0.695\n",
      "Epoch: 1/2..  Training Loss: 0.864..  Test Loss: 0.686..  Test Accuracy: 0.745\n",
      "Epoch: 1/2..  Training Loss: 0.821..  Test Loss: 0.649..  Test Accuracy: 0.758\n",
      "Epoch: 1/2..  Training Loss: 0.727..  Test Loss: 0.600..  Test Accuracy: 0.778\n",
      "Epoch: 1/2..  Training Loss: 0.737..  Test Loss: 0.606..  Test Accuracy: 0.767\n",
      "Epoch: 1/2..  Training Loss: 0.712..  Test Loss: 0.586..  Test Accuracy: 0.776\n",
      "Epoch: 1/2..  Training Loss: 0.645..  Test Loss: 0.555..  Test Accuracy: 0.796\n",
      "Epoch: 1/2..  Training Loss: 0.642..  Test Loss: 0.543..  Test Accuracy: 0.805\n",
      "Epoch: 1/2..  Training Loss: 0.656..  Test Loss: 0.564..  Test Accuracy: 0.787\n",
      "Epoch: 1/2..  Training Loss: 0.657..  Test Loss: 0.544..  Test Accuracy: 0.797\n",
      "Epoch: 1/2..  Training Loss: 0.653..  Test Loss: 0.530..  Test Accuracy: 0.804\n",
      "Epoch: 1/2..  Training Loss: 0.633..  Test Loss: 0.551..  Test Accuracy: 0.796\n",
      "Epoch: 1/2..  Training Loss: 0.559..  Test Loss: 0.528..  Test Accuracy: 0.808\n",
      "Epoch: 1/2..  Training Loss: 0.597..  Test Loss: 0.512..  Test Accuracy: 0.814\n",
      "Epoch: 1/2..  Training Loss: 0.597..  Test Loss: 0.523..  Test Accuracy: 0.804\n",
      "Epoch: 1/2..  Training Loss: 0.599..  Test Loss: 0.544..  Test Accuracy: 0.797\n",
      "Epoch: 1/2..  Training Loss: 0.614..  Test Loss: 0.507..  Test Accuracy: 0.814\n",
      "Epoch: 1/2..  Training Loss: 0.582..  Test Loss: 0.493..  Test Accuracy: 0.822\n",
      "Epoch: 1/2..  Training Loss: 0.544..  Test Loss: 0.494..  Test Accuracy: 0.823\n",
      "Epoch: 1/2..  Training Loss: 0.572..  Test Loss: 0.481..  Test Accuracy: 0.822\n",
      "Epoch: 1/2..  Training Loss: 0.569..  Test Loss: 0.494..  Test Accuracy: 0.816\n",
      "Epoch: 1/2..  Training Loss: 0.565..  Test Loss: 0.483..  Test Accuracy: 0.816\n",
      "Epoch: 2/2..  Training Loss: 0.536..  Test Loss: 0.465..  Test Accuracy: 0.830\n",
      "Epoch: 2/2..  Training Loss: 0.530..  Test Loss: 0.485..  Test Accuracy: 0.825\n",
      "Epoch: 2/2..  Training Loss: 0.550..  Test Loss: 0.499..  Test Accuracy: 0.819\n",
      "Epoch: 2/2..  Training Loss: 0.571..  Test Loss: 0.487..  Test Accuracy: 0.817\n",
      "Epoch: 2/2..  Training Loss: 0.536..  Test Loss: 0.466..  Test Accuracy: 0.827\n",
      "Epoch: 2/2..  Training Loss: 0.531..  Test Loss: 0.468..  Test Accuracy: 0.828\n",
      "Epoch: 2/2..  Training Loss: 0.511..  Test Loss: 0.469..  Test Accuracy: 0.828\n",
      "Epoch: 2/2..  Training Loss: 0.551..  Test Loss: 0.460..  Test Accuracy: 0.829\n",
      "Epoch: 2/2..  Training Loss: 0.552..  Test Loss: 0.466..  Test Accuracy: 0.830\n",
      "Epoch: 2/2..  Training Loss: 0.542..  Test Loss: 0.472..  Test Accuracy: 0.830\n",
      "Epoch: 2/2..  Training Loss: 0.524..  Test Loss: 0.469..  Test Accuracy: 0.830\n",
      "Epoch: 2/2..  Training Loss: 0.534..  Test Loss: 0.469..  Test Accuracy: 0.834\n",
      "Epoch: 2/2..  Training Loss: 0.518..  Test Loss: 0.450..  Test Accuracy: 0.835\n",
      "Epoch: 2/2..  Training Loss: 0.552..  Test Loss: 0.509..  Test Accuracy: 0.810\n",
      "Epoch: 2/2..  Training Loss: 0.550..  Test Loss: 0.465..  Test Accuracy: 0.829\n",
      "Epoch: 2/2..  Training Loss: 0.535..  Test Loss: 0.445..  Test Accuracy: 0.838\n",
      "Epoch: 2/2..  Training Loss: 0.523..  Test Loss: 0.444..  Test Accuracy: 0.835\n",
      "Epoch: 2/2..  Training Loss: 0.556..  Test Loss: 0.459..  Test Accuracy: 0.830\n",
      "Epoch: 2/2..  Training Loss: 0.532..  Test Loss: 0.453..  Test Accuracy: 0.841\n",
      "Epoch: 2/2..  Training Loss: 0.521..  Test Loss: 0.444..  Test Accuracy: 0.840\n",
      "Epoch: 2/2..  Training Loss: 0.483..  Test Loss: 0.449..  Test Accuracy: 0.831\n",
      "Epoch: 2/2..  Training Loss: 0.532..  Test Loss: 0.438..  Test Accuracy: 0.842\n",
      "Epoch: 2/2..  Training Loss: 0.490..  Test Loss: 0.439..  Test Accuracy: 0.840\n"
     ]
    }
   ],
   "source": [
    "fc_model.train(model, trainloader, testloader, criterion, optimizer, epochs=2)"
   ]
  },
  {
   "cell_type": "markdown",
   "metadata": {},
   "source": [
    "## Saving and loading networks\n",
    "\n",
    "As you can imagine, it's impractical to train a network every time you need to use it. Instead, we can save trained networks then load them later to train more or use them for predictions.\n",
    "\n",
    "The parameters for PyTorch networks are stored in a model's `state_dict`. We can see the state dict contains the weight and bias matrices for each of our layers."
   ]
  },
  {
   "cell_type": "code",
   "execution_count": 13,
   "metadata": {},
   "outputs": [
    {
     "name": "stdout",
     "output_type": "stream",
     "text": [
      "Our model: \n",
      "\n",
      " Network(\n",
      "  (hidden_layers): ModuleList(\n",
      "    (0): Linear(in_features=784, out_features=512, bias=True)\n",
      "    (1): Linear(in_features=512, out_features=256, bias=True)\n",
      "    (2): Linear(in_features=256, out_features=128, bias=True)\n",
      "  )\n",
      "  (output): Linear(in_features=128, out_features=10, bias=True)\n",
      "  (dropout): Dropout(p=0.5, inplace=False)\n",
      ") \n",
      "\n",
      "The state dict keys: \n",
      "\n",
      " odict_keys(['hidden_layers.0.weight', 'hidden_layers.0.bias', 'hidden_layers.1.weight', 'hidden_layers.1.bias', 'hidden_layers.2.weight', 'hidden_layers.2.bias', 'output.weight', 'output.bias'])\n"
     ]
    }
   ],
   "source": [
    "print(\"Our model: \\n\\n\", model, '\\n')\n",
    "print(\"The state dict keys: \\n\\n\", model.state_dict().keys())"
   ]
  },
  {
   "cell_type": "markdown",
   "metadata": {},
   "source": [
    "The simplest thing to do is simply save the state dict with `torch.save`. For example, we can save it to a file `'checkpoint.pth'`."
   ]
  },
  {
   "cell_type": "code",
   "execution_count": 15,
   "metadata": {},
   "outputs": [],
   "source": [
    "torch.save(model.state_dict(), 'checkpoint.pth')"
   ]
  },
  {
   "cell_type": "markdown",
   "metadata": {},
   "source": [
    "Then we can load the state dict with `torch.load`."
   ]
  },
  {
   "cell_type": "code",
   "execution_count": 16,
   "metadata": {},
   "outputs": [
    {
     "name": "stdout",
     "output_type": "stream",
     "text": [
      "odict_keys(['hidden_layers.0.weight', 'hidden_layers.0.bias', 'hidden_layers.1.weight', 'hidden_layers.1.bias', 'hidden_layers.2.weight', 'hidden_layers.2.bias', 'output.weight', 'output.bias'])\n"
     ]
    }
   ],
   "source": [
    "state_dict = torch.load('checkpoint.pth')\n",
    "print(state_dict.keys())"
   ]
  },
  {
   "cell_type": "markdown",
   "metadata": {},
   "source": [
    "And to load the state dict in to the network, you do `model.load_state_dict(state_dict)`."
   ]
  },
  {
   "cell_type": "code",
   "execution_count": 17,
   "metadata": {},
   "outputs": [
    {
     "data": {
      "text/plain": [
       "<All keys matched successfully>"
      ]
     },
     "execution_count": 17,
     "metadata": {},
     "output_type": "execute_result"
    }
   ],
   "source": [
    "model.load_state_dict(state_dict)"
   ]
  },
  {
   "cell_type": "markdown",
   "metadata": {},
   "source": [
    "Seems pretty straightforward, but as usual it's a bit more complicated. Loading the state dict works only if the model architecture is exactly the same as the checkpoint architecture. If I create a model with a different architecture, this fails."
   ]
  },
  {
   "cell_type": "code",
   "execution_count": 22,
   "metadata": {},
   "outputs": [
    {
     "data": {
      "text/plain": [
       "<All keys matched successfully>"
      ]
     },
     "execution_count": 22,
     "metadata": {},
     "output_type": "execute_result"
    }
   ],
   "source": [
    "# Try this\n",
    "model = fc_model.Network(784, 10, [400, 200, 100])\n",
    "# This will throw an error because the tensor sizes are wrong!\n",
    "model.load_state_dict(state_dict)"
   ]
  },
  {
   "cell_type": "markdown",
   "metadata": {},
   "source": [
    "This means we need to rebuild the model exactly as it was when trained. Information about the model architecture needs to be saved in the checkpoint, along with the state dict. To do this, you build a dictionary with all the information you need to compeletely rebuild the model."
   ]
  },
  {
   "cell_type": "code",
   "execution_count": 23,
   "metadata": {},
   "outputs": [],
   "source": [
    "checkpoint = {'input_size': 784,\n",
    "              'output_size': 10,\n",
    "              'hidden_layers': [each.out_features for each in model.hidden_layers],\n",
    "              'state_dict': model.state_dict()}\n",
    "\n",
    "torch.save(checkpoint, 'checkpoint.pth')"
   ]
  },
  {
   "cell_type": "markdown",
   "metadata": {},
   "source": [
    "Now the checkpoint has all the necessary information to rebuild the trained model. You can easily make that a function if you want. Similarly, we can write a function to load checkpoints. "
   ]
  },
  {
   "cell_type": "code",
   "execution_count": 25,
   "metadata": {},
   "outputs": [],
   "source": [
    "# def load_checkpoint(filepath):\n",
    "#     checkpoint = torch.load(filepath)\n",
    "#     model = fc_model.Network(checkpoint['input_size'],\n",
    "#                              checkpoint['output_size'],\n",
    "#                              checkpoint['hidden_layers'])\n",
    "#     model.load_state_dict(checkpoint['state_dict'])\n",
    "    \n",
    "#     return model\n",
    "\n",
    "def load_model(chkpoint_path):\n",
    "    checkpoint = torch.load(chkpoint_path)\n",
    "    model  = fc_model.Netwotk(checkpoint['input_size'],checkpoint['output_size'],checkpint['hidden_size'])\n",
    "    model.load_state_dict(checkpoint['state_dict'])\n",
    "    \n",
    "    return model"
   ]
  },
  {
   "cell_type": "code",
   "execution_count": 26,
   "metadata": {},
   "outputs": [
    {
     "name": "stdout",
     "output_type": "stream",
     "text": [
      "Network(\n",
      "  (hidden_layers): ModuleList(\n",
      "    (0): Linear(in_features=784, out_features=400, bias=True)\n",
      "    (1): Linear(in_features=400, out_features=200, bias=True)\n",
      "    (2): Linear(in_features=200, out_features=100, bias=True)\n",
      "  )\n",
      "  (output): Linear(in_features=100, out_features=10, bias=True)\n",
      "  (dropout): Dropout(p=0.5, inplace=False)\n",
      ")\n"
     ]
    }
   ],
   "source": [
    "model = load_checkpoint('checkpoint.pth')\n",
    "print(model)"
   ]
  }
 ],
 "metadata": {
  "kernelspec": {
   "display_name": "Python 3",
   "language": "python",
   "name": "python3"
  },
  "language_info": {
   "codemirror_mode": {
    "name": "ipython",
    "version": 3
   },
   "file_extension": ".py",
   "mimetype": "text/x-python",
   "name": "python",
   "nbconvert_exporter": "python",
   "pygments_lexer": "ipython3",
   "version": "3.7.4"
  }
 },
 "nbformat": 4,
 "nbformat_minor": 2
}
